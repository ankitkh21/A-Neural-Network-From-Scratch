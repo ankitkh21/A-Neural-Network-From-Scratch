{
 "cells": [
  {
   "cell_type": "markdown",
   "id": "ac0b1541",
   "metadata": {},
   "source": [
    "# Spi of a student (8+ or 8-)"
   ]
  },
  {
   "cell_type": "code",
   "execution_count": 295,
   "id": "bc6362d7",
   "metadata": {},
   "outputs": [],
   "source": [
    "import numpy as np"
   ]
  },
  {
   "cell_type": "markdown",
   "id": "9f8fa3b6",
   "metadata": {},
   "source": [
    "let's take input set as Various method of studying in a particular semester.\n",
    "\n",
    "input as ('Studying From Other Resources' , 'Doing All The Assignments' , 'Attending All The Lectures')"
   ]
  },
  {
   "cell_type": "code",
   "execution_count": 296,
   "id": "1e3847e0",
   "metadata": {},
   "outputs": [],
   "source": [
    "input_set = np.array([[0,1,0],[0,0,1],[1,0,1],[1,1,0],[1,1,0]])"
   ]
  },
  {
   "cell_type": "markdown",
   "id": "4453bc12",
   "metadata": {},
   "source": [
    "output corresponding to various inputs"
   ]
  },
  {
   "cell_type": "code",
   "execution_count": 297,
   "id": "dfa66e95",
   "metadata": {},
   "outputs": [],
   "source": [
    "output_set = np.array([[0,1,1,0,0]])"
   ]
  },
  {
   "cell_type": "code",
   "execution_count": 298,
   "id": "12f6e63d",
   "metadata": {},
   "outputs": [],
   "source": [
    "output_set = output_set.reshape(5,1)"
   ]
  },
  {
   "cell_type": "code",
   "execution_count": 299,
   "id": "96b86885",
   "metadata": {},
   "outputs": [],
   "source": [
    "np.random.seed(42)"
   ]
  },
  {
   "cell_type": "markdown",
   "id": "7bf1cb4a",
   "metadata": {},
   "source": [
    "taking weights as a 3 x 1 matrix of random numbers"
   ]
  },
  {
   "cell_type": "code",
   "execution_count": 300,
   "id": "c53605a8",
   "metadata": {},
   "outputs": [],
   "source": [
    "weights = np.random.rand(3,1)"
   ]
  },
  {
   "cell_type": "code",
   "execution_count": 301,
   "id": "1d263538",
   "metadata": {},
   "outputs": [],
   "source": [
    "bias = np.random.rand(1)"
   ]
  },
  {
   "cell_type": "markdown",
   "id": "0e7973e3",
   "metadata": {},
   "source": [
    "taking learning rate as lr = 0.05"
   ]
  },
  {
   "cell_type": "code",
   "execution_count": 302,
   "id": "199956d4",
   "metadata": {},
   "outputs": [],
   "source": [
    "lr = 0.05"
   ]
  },
  {
   "cell_type": "markdown",
   "id": "8e75611d",
   "metadata": {},
   "source": [
    "defining sigmoid function f(x) = 1/(1 + $e^-x$)"
   ]
  },
  {
   "cell_type": "code",
   "execution_count": 303,
   "id": "d92e8b36",
   "metadata": {},
   "outputs": [],
   "source": [
    "def sigmoid(x):\n",
    "    return 1/(1+np.exp(-x))"
   ]
  },
  {
   "cell_type": "markdown",
   "id": "519b5c93",
   "metadata": {},
   "source": [
    "defining derivative of sigmoid function f'(x) = sigmoid(x)[ 1- sigmoid(x)] "
   ]
  },
  {
   "cell_type": "code",
   "execution_count": 304,
   "id": "5a120485",
   "metadata": {},
   "outputs": [],
   "source": [
    "def sigmoid_der(x):\n",
    "    return sigmoid(x)*(1-sigmoid(x))"
   ]
  },
  {
   "cell_type": "markdown",
   "id": "9c3908db",
   "metadata": {},
   "source": [
    "In the first step, we define the number of epochs. \n",
    "Next we store the values from the input_set to the inputs variable.\n",
    "\n",
    "### feedforward\n",
    "1. Here we find the dot product of the input and the weight vector and add bias to it. This is Step 1 of the feedforward section.\n",
    "2. We pass the dot product through the sigmoid activation function.\n",
    "\n",
    "### backpropagation\n",
    "1. here we find the error.\n",
    "2. Here \"d_pred\" is simply the sigmoid function and we have differentiated it with respect to input dot product \"z\". here dcost_dpred is dcost/dpred. And  dpred_dz is  dpred/dz. \n",
    "\n",
    "and then using gradient descent method iterating many times we have find minimum error in optimal iterates.\n",
    "    "
   ]
  },
  {
   "cell_type": "code",
   "execution_count": 305,
   "id": "6fb72d74",
   "metadata": {},
   "outputs": [
    {
     "name": "stdout",
     "output_type": "stream",
     "text": [
      "2.2071316308500153\n",
      "2.1767818438374866\n",
      "2.1456127126490996\n",
      "2.113644533313836\n",
      "2.080902051905212\n",
      "2.04741452702908\n",
      "2.013215737046272\n",
      "1.9783439274097843\n",
      "1.9428416946951308\n",
      "1.9067558053452052\n",
      "1.870136948797424\n",
      "1.8330394264550975\n",
      "1.7955207798360897\n",
      "1.7576413630981\n",
      "1.719463866913269\n",
      "1.6810528022564033\n",
      "1.6424739539978876\n",
      "1.6037938151830418\n",
      "1.5650790134806098\n",
      "1.5263957414621747\n",
      "1.4878092021241454\n",
      "1.4493830804017451\n",
      "1.4111790503909343\n",
      "1.3732563266500213\n",
      "1.3356712663733497\n",
      "1.2984770274995525\n",
      "1.2617232860235235\n",
      "1.2254560140084563\n",
      "1.1897173181173137\n",
      "1.1545453369645795\n",
      "1.119974194276708\n",
      "1.0860340037744693\n",
      "1.0527509208675458\n",
      "1.0201472356817647\n",
      "0.9882415016101532\n",
      "0.957048693468916\n",
      "0.9265803894197254\n",
      "0.8968449710578145\n",
      "0.8678478364271182\n",
      "0.8395916211756221\n",
      "0.8120764235749934\n",
      "0.7853000296706976\n",
      "0.7592581353785204\n",
      "0.7339445628814917\n",
      "0.709351469192758\n",
      "0.6854695452242479\n",
      "0.6622882041308726\n",
      "0.6397957580815983\n",
      "0.6179795829405995\n",
      "0.5968262706245557\n",
      "0.5763217691381437\n",
      "0.5564515104821934\n",
      "0.5372005267817326\n",
      "0.5185535550985683\n",
      "0.5004951314795425\n",
      "0.48300967485152624\n",
      "0.46608156141168716\n",
      "0.44969519018041537\n",
      "0.43383504038801524\n",
      "0.4184857213579006\n",
      "0.4036320155313309\n",
      "0.38925891525396644\n",
      "0.3753516539146853\n",
      "0.3618957319938622\n",
      "0.3488769385429433\n",
      "0.3362813685808498\n",
      "0.3240954368562553\n",
      "0.31230588838890466\n",
      "0.3008998061682703\n",
      "0.2898646163544321\n",
      "0.27918809129433775\n",
      "0.26885835063672575\n",
      "0.25886386080107243\n",
      "0.24919343302999902\n",
      "0.23983622023061285\n",
      "0.23078171278824616\n",
      "0.22201973351590765\n",
      "0.2135404318843851\n",
      "0.20533427766126394\n",
      "0.19739205407201488\n",
      "0.18970485058266323\n",
      "0.1822640553912928\n",
      "0.17506134770460335\n",
      "0.1680886898658765\n",
      "0.16133831939189475\n",
      "0.15480274096848473\n",
      "0.14847471844737592\n",
      "0.14234726688085642\n",
      "0.13641364462521027\n",
      "0.13066734553906445\n",
      "0.1251020912984982\n",
      "0.11971182384698748\n",
      "0.11449069799495981\n",
      "0.10943307418083464\n",
      "0.1045335114028979\n",
      "0.09978676032915174\n",
      "0.09518775659037354\n",
      "0.09073161425996334\n",
      "0.0864136195227232\n",
      "0.08222922453350162\n",
      "0.07817404146557277\n",
      "0.07424383674774432\n",
      "0.07043452548842338\n",
      "0.06674216608425326\n",
      "0.06316295501039165\n",
      "0.05969322178909142\n",
      "0.05632942413287606\n",
      "0.05306814325833731\n",
      "0.04990607936635694\n",
      "0.04684004728439861\n",
      "0.04386697226638947\n",
      "0.0409838859456465\n",
      "0.038187922436248134\n",
      "0.03547631457824174\n",
      "0.03284639032209202\n",
      "0.03029556924780763\n",
      "0.027821359214221575\n",
      "0.025421353133986746\n",
      "0.02309322586990159\n",
      "0.02083473124828772\n",
      "0.018643699185221463\n",
      "0.016518032921530423\n",
      "0.01445570636256982\n",
      "0.01245476151890007\n",
      "0.010513306044104442\n",
      "0.008629510866092538\n",
      "0.006801607908355267\n",
      "0.005027887897745165\n",
      "0.00330669825547375\n",
      "0.001636441068129102\n",
      "1.5571135624781185e-05\n"
     ]
    }
   ],
   "source": [
    "for epoch in range(131):\n",
    "    inputs = input_set\n",
    "\n",
    "    # feedforward step1\n",
    "    XW = np.dot(input_set, weights) + bias\n",
    "\n",
    "    #feedforward step2\n",
    "    z = sigmoid(XW)\n",
    "\n",
    "\n",
    "    # backpropagation step 1\n",
    "    error = z - output_set\n",
    "\n",
    "    print(error.sum())\n",
    "\n",
    "    # backpropagation step 2\n",
    "    dcost_dpred = error\n",
    "    dpred_dz = sigmoid_der(z)\n",
    "\n",
    "    z_delta = dcost_dpred * dpred_dz\n",
    "\n",
    "    inputs = input_set.T\n",
    "    weights -= lr * np.dot(inputs, z_delta)\n",
    "\n",
    "    for num in z_delta:\n",
    "        bias -= lr * num"
   ]
  },
  {
   "cell_type": "markdown",
   "id": "b93719cf",
   "metadata": {},
   "source": [
    "## examples"
   ]
  },
  {
   "cell_type": "code",
   "execution_count": 310,
   "id": "bcb8ddc2",
   "metadata": {},
   "outputs": [
    {
     "name": "stdout",
     "output_type": "stream",
     "text": [
      "[0.69248607]\n"
     ]
    }
   ],
   "source": [
    "single_point = np.array([1,0,1])\n",
    "result = sigmoid(np.dot(single_point, weights) + bias)\n",
    "print(result)"
   ]
  },
  {
   "cell_type": "markdown",
   "id": "d8e9e918",
   "metadata": {},
   "source": [
    "because result if > 0.5, therefore spi is more likely to be 8+"
   ]
  },
  {
   "cell_type": "code",
   "execution_count": 307,
   "id": "6a068343",
   "metadata": {},
   "outputs": [
    {
     "name": "stdout",
     "output_type": "stream",
     "text": [
      "[0.21764473]\n"
     ]
    }
   ],
   "source": [
    "single_point = np.array([0,1,0])\n",
    "result = sigmoid(np.dot(single_point, weights) + bias)\n",
    "print(result)"
   ]
  },
  {
   "cell_type": "markdown",
   "id": "d2122e20",
   "metadata": {},
   "source": [
    "because result if < 0.5, therefore spi is more likely to be 8-"
   ]
  },
  {
   "cell_type": "code",
   "execution_count": 309,
   "id": "b85d2780",
   "metadata": {},
   "outputs": [
    {
     "name": "stdout",
     "output_type": "stream",
     "text": [
      "[0.76392532]\n"
     ]
    }
   ],
   "source": [
    "single_point = np.array([0,0,1])\n",
    "result = sigmoid(np.dot(single_point, weights) + bias)\n",
    "print(result)"
   ]
  },
  {
   "cell_type": "markdown",
   "id": "c543bb5f",
   "metadata": {},
   "source": [
    "because result if > 0.5, therefore spi is more likely to be 8+"
   ]
  },
  {
   "cell_type": "code",
   "execution_count": null,
   "id": "3be48365",
   "metadata": {},
   "outputs": [],
   "source": []
  },
  {
   "cell_type": "code",
   "execution_count": null,
   "id": "21cab02c",
   "metadata": {},
   "outputs": [],
   "source": []
  },
  {
   "cell_type": "code",
   "execution_count": null,
   "id": "9b26b246",
   "metadata": {},
   "outputs": [],
   "source": []
  },
  {
   "cell_type": "code",
   "execution_count": null,
   "id": "ddebb400",
   "metadata": {},
   "outputs": [],
   "source": []
  },
  {
   "cell_type": "code",
   "execution_count": null,
   "id": "82d78738",
   "metadata": {},
   "outputs": [],
   "source": []
  },
  {
   "cell_type": "code",
   "execution_count": null,
   "id": "7e8c375c",
   "metadata": {},
   "outputs": [],
   "source": []
  }
 ],
 "metadata": {
  "kernelspec": {
   "display_name": "Python 3 (ipykernel)",
   "language": "python",
   "name": "python3"
  },
  "language_info": {
   "codemirror_mode": {
    "name": "ipython",
    "version": 3
   },
   "file_extension": ".py",
   "mimetype": "text/x-python",
   "name": "python",
   "nbconvert_exporter": "python",
   "pygments_lexer": "ipython3",
   "version": "3.9.12"
  }
 },
 "nbformat": 4,
 "nbformat_minor": 5
}
